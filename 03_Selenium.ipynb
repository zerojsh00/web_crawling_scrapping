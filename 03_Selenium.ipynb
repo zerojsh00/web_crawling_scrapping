{
 "cells": [
  {
   "cell_type": "markdown",
   "metadata": {},
   "source": [
    "# Selenium 설치 "
   ]
  },
  {
   "cell_type": "markdown",
   "metadata": {},
   "source": [
    "Selenium(open source)은 Anaconda에 포함된 모듈이 아니기 때문에 별도로 설치해야 한다. Anaconda Prompt(Mac의 경우 Terminal 등)에서 <i>pip install selenium</i>만으로 쉽게 설치된다.\n",
    "\n",
    "그러나 Selenium은 모듈 설치만으로는 동작하지 않는다. 사용하는 웹 브라우저에 맞춰 웹 드라이버를 다운받아야 한다. 일반적으로는 구글 크롬을 사용하므로 크롬 웹 드라이버를 다운받는다.(https://goo.gl/x5Wo5A)\n",
    "\n",
    "자신의 운영체제를 고려해서 크롬 버전정보(크롬:도움말 > 크롬 정보에서 확인)를 확인 후 다운받는다. 윈도우 유저는 그냥 32bit로 받으면 된다. 그러고 나서 웹 드라이버를 보관하고자 하는 경로에 압축 푼다. 본 예제에서는 소스코드가 있는 폴더 경로에서 'driver'라는 폴더를 만든 후 그 안에 넣었다."
   ]
  },
  {
   "cell_type": "code",
   "execution_count": 1,
   "metadata": {},
   "outputs": [
    {
     "name": "stdout",
     "output_type": "stream",
     "text": [
      "Collecting selenium\n",
      "  Downloading https://files.pythonhosted.org/packages/80/d6/4294f0b4bce4de0abf13e17190289f9d0613b0a44e5dd6a7f5ca98459853/selenium-3.141.0-py2.py3-none-any.whl (904kB)\n",
      "Requirement already satisfied: urllib3 in c:\\anaconda3\\lib\\site-packages (from selenium) (1.22)\n",
      "Installing collected packages: selenium\n",
      "Successfully installed selenium-3.141.0\n"
     ]
    },
    {
     "name": "stderr",
     "output_type": "stream",
     "text": [
      "WARNING: You are using pip version 19.2.2, however version 19.2.3 is available.\n",
      "You should consider upgrading via the 'python -m pip install --upgrade pip' command.\n"
     ]
    }
   ],
   "source": [
    "# 파이썬 패키지(open source) 다운로드\n",
    "# !의 경우 CMD 창에서는 생략 가능, 주피터 노트북에서만 사용\n",
    "\n",
    "!pip install selenium "
   ]
  },
  {
   "cell_type": "code",
   "execution_count": 2,
   "metadata": {},
   "outputs": [
    {
     "name": "stdout",
     "output_type": "stream",
     "text": [
      "# packages in environment at C:\\Anaconda3:\n",
      "#\n",
      "# Name                    Version                   Build  Channel\n",
      "_ipyw_jlab_nb_ext_conf    0.1.0            py36he6757f0_0  \n",
      "absl-py                   0.7.1                    pypi_0    pypi\n",
      "alabaster                 0.7.10           py36hcd07829_0  \n",
      "anaconda                  5.2.0                    py36_3  \n",
      "anaconda-client           1.6.14                   py36_0  \n",
      "anaconda-navigator        1.8.7                    py36_0  \n",
      "anaconda-project          0.8.2            py36hfad2e28_0  \n",
      "asn1crypto                0.24.0                   py36_0  \n",
      "astor                     0.7.1                    pypi_0    pypi\n",
      "astroid                   1.6.3                    py36_0  \n",
      "astropy                   3.0.2            py36h452e1ab_1  \n",
      "attrs                     18.1.0                   py36_0  \n",
      "babel                     2.5.3                    py36_0  \n",
      "backcall                  0.1.0                    py36_0  \n",
      "backports                 1.0              py36h81696a8_1  \n",
      "backports.shutil_get_terminal_size 1.0.0            py36h79ab834_2  \n",
      "beautifulsoup4            4.6.0            py36hd4cc5e8_1  \n",
      "bitarray                  0.8.1            py36hfa6e2cd_1  \n",
      "bkcharts                  0.2              py36h7e685f7_0  \n",
      "blas                      1.0                         mkl  \n",
      "blaze                     0.11.3           py36h8a29ca5_0  \n",
      "bleach                    2.1.3                    py36_0  \n",
      "blosc                     1.14.3               he51fdeb_0  \n",
      "bokeh                     0.12.16                  py36_0  \n",
      "boto                      2.48.0           py36h1a776d2_1  \n",
      "boto3                     1.9.134                  pypi_0    pypi\n",
      "botocore                  1.12.134                 pypi_0    pypi\n",
      "bottleneck                1.2.1            py36hd119dfa_0  \n",
      "bs4                       0.0.1                    pypi_0    pypi\n",
      "bz2file                   0.98                     pypi_0    pypi\n",
      "bzip2                     1.0.6                hfa6e2cd_5  \n",
      "ca-certificates           2018.03.07                    0  \n",
      "certifi                   2018.4.16                py36_0  \n",
      "cffi                      1.11.5           py36h945400d_0  \n",
      "chardet                   3.0.4            py36h420ce6e_1  \n",
      "click                     6.7              py36hec8c647_0  \n",
      "cloudpickle               0.5.3                    py36_0  \n",
      "clyent                    1.2.2            py36hb10d595_1  \n",
      "colorama                  0.3.9            py36h029ae33_0  \n",
      "comtypes                  1.1.4                    py36_0  \n",
      "conda                     4.6.14                   py36_0  \n",
      "conda-build               3.10.5                   py36_0  \n",
      "conda-env                 2.6.0                h36134e3_1  \n",
      "conda-verify              2.0.0            py36h065de53_0  \n",
      "console_shortcut          0.1.1                h6bb2dd7_3  \n",
      "contextlib2               0.5.5            py36he5d52c0_0  \n",
      "cpuonly                   1.0                           0    pytorch\n",
      "cryptography              2.2.2            py36hfa6e2cd_0  \n",
      "curl                      7.60.0               h7602738_0  \n",
      "cycler                    0.10.0           py36h009560c_0  \n",
      "cython                    0.28.2           py36hfa6e2cd_0  \n",
      "cytoolz                   0.9.0.1          py36hfa6e2cd_0  \n",
      "dask                      0.17.5                   py36_0  \n",
      "dask-core                 0.17.5                   py36_0  \n",
      "datashape                 0.5.4            py36h5770b85_0  \n",
      "decorator                 4.3.0                    py36_0  \n",
      "distributed               1.21.8                   py36_0  \n",
      "docutils                  0.14             py36h6012d8f_0  \n",
      "entrypoints               0.2.3            py36hfd66bb0_2  \n",
      "et_xmlfile                1.0.1            py36h3d2d736_0  \n",
      "fastcache                 1.0.2            py36hfa6e2cd_2  \n",
      "filelock                  3.0.4                    py36_0  \n",
      "flask                     1.0.2                    py36_1  \n",
      "flask-cors                3.0.4                    py36_0  \n",
      "freetype                  2.8                  h51f8f2c_1  \n",
      "gast                      0.2.2                    pypi_0    pypi\n",
      "gensim                    3.7.2                    pypi_0    pypi\n",
      "get_terminal_size         1.0.0                h38e98db_0  \n",
      "gevent                    1.3.0            py36hfa6e2cd_0  \n",
      "glob2                     0.6              py36hdf76b57_0  \n",
      "greenlet                  0.4.13           py36hfa6e2cd_0  \n",
      "grpcio                    1.20.0                   pypi_0    pypi\n",
      "h5py                      2.7.1            py36h3bdd7fb_2  \n",
      "hdf5                      1.10.2               hac2f561_1  \n",
      "heapdict                  1.0.0                    py36_2  \n",
      "html5lib                  1.0.1            py36h047fa9f_0  \n",
      "icc_rt                    2017.0.4             h97af966_0  \n",
      "icu                       58.2                 ha66f8fd_1  \n",
      "idna                      2.6              py36h148d497_1  \n",
      "imageio                   2.3.0                    py36_0  \n",
      "imagesize                 1.0.0                    py36_0  \n",
      "intel-openmp              2018.0.0                      8  \n",
      "ipykernel                 4.8.2                    py36_0  \n",
      "ipython                   6.4.0                    py36_0  \n",
      "ipython_genutils          0.2.0            py36h3c5d0ee_0  \n",
      "ipywidgets                7.2.1                    py36_0  \n",
      "isort                     4.3.4                    py36_0  \n",
      "itsdangerous              0.24             py36hb6c5a24_1  \n",
      "jdcal                     1.4                      py36_0  \n",
      "jedi                      0.12.0                   py36_1  \n",
      "jinja2                    2.10             py36h292fed1_0  \n",
      "jmespath                  0.9.4                    pypi_0    pypi\n",
      "jpeg                      9b                   hb83a4c4_2  \n",
      "jpype1                    0.6.3                    pypi_0    pypi\n",
      "jsonschema                2.6.0            py36h7636477_0  \n",
      "jupyter                   1.0.0                    py36_4  \n",
      "jupyter_client            5.2.3                    py36_0  \n",
      "jupyter_console           5.2.0            py36h6d89b47_1  \n",
      "jupyter_core              4.4.0            py36h56e9d50_0  \n",
      "jupyterlab                0.32.1                   py36_0  \n",
      "jupyterlab_launcher       0.10.5                   py36_0  \n",
      "keras                     2.2.4                    pypi_0    pypi\n",
      "keras-applications        1.0.7                    pypi_0    pypi\n",
      "keras-preprocessing       1.0.9                    pypi_0    pypi\n",
      "kiwisolver                1.0.1            py36h12c3424_0  \n",
      "konlpy                    0.5.1                    pypi_0    pypi\n",
      "lazy-object-proxy         1.3.1            py36hd1c21d2_0  \n",
      "libcurl                   7.60.0               hc4dcbb0_0  \n",
      "libiconv                  1.15                 h1df5818_7  \n",
      "libpng                    1.6.34               h79bbb47_0  \n",
      "libsodium                 1.0.16               h9d3ae62_0  \n",
      "libssh2                   1.8.0                hd619d38_4  \n",
      "libtiff                   4.0.9                hb8ad9f9_1  \n",
      "libxml2                   2.9.8                hadb2253_1  \n",
      "libxslt                   1.1.32               hf6f1972_0  \n",
      "llvmlite                  0.23.1           py36hcacf6c6_0  \n",
      "locket                    0.2.0            py36hfed976d_1  \n",
      "lxml                      4.2.1            py36heafd4d3_0  \n",
      "lzo                       2.10                 h6df0209_2  \n",
      "m2w64-gcc-libgfortran     5.3.0                         6  \n",
      "m2w64-gcc-libs            5.3.0                         7  \n",
      "m2w64-gcc-libs-core       5.3.0                         7  \n",
      "m2w64-gmp                 6.1.0                         2  \n",
      "m2w64-libwinpthread-git   5.0.0.4634.697f757               2  \n",
      "markdown                  3.1                      pypi_0    pypi\n",
      "markupsafe                1.0              py36h0e26971_1  \n",
      "matplotlib                2.2.2            py36h153e9ff_1  \n",
      "mccabe                    0.6.1            py36hb41005a_1  \n",
      "menuinst                  1.4.14           py36hfa6e2cd_0  \n",
      "mistune                   0.8.3            py36hfa6e2cd_1  \n",
      "mkl                       2018.0.2                      1  \n",
      "mkl-service               1.1.2            py36h57e144c_4  \n",
      "mkl_fft                   1.0.1            py36h452e1ab_0  \n",
      "mkl_random                1.0.1            py36h9258bd6_0  \n",
      "mock                      2.0.0                    pypi_0    pypi\n",
      "more-itertools            4.1.0                    py36_0  \n",
      "mpmath                    1.0.0            py36hacc8adf_2  \n",
      "msgpack-python            0.5.6            py36he980bc4_0  \n",
      "msys2-conda-epoch         20160418                      1  \n",
      "multipledispatch          0.5.0                    py36_0  \n",
      "navigator-updater         0.2.1                    py36_0  \n",
      "nbconvert                 5.3.1            py36h8dc0fde_0  \n",
      "nbformat                  4.4.0            py36h3a5bc1b_0  \n",
      "networkx                  2.1                      py36_0  \n",
      "ninja                     1.8.2            py36he980bc4_1  \n",
      "nltk                      3.3.0                    py36_0  \n",
      "nose                      1.3.7            py36h1c3779e_2  \n",
      "notebook                  5.5.0                    py36_0  \n",
      "numba                     0.38.0           py36h830ac7b_0  \n",
      "numexpr                   2.6.5            py36hcd2f87e_0  \n",
      "numpy                     1.14.3                   pypi_0    pypi\n",
      "numpydoc                  0.8.0                    py36_0  \n",
      "odo                       0.5.1            py36h7560279_0  \n",
      "olefile                   0.45.1                   py36_0  \n",
      "openpyxl                  2.5.3                    py36_0  \n",
      "openssl                   1.0.2o               h8ea7d77_0  \n",
      "owlready2                 0.17                     pypi_0    pypi\n",
      "packaging                 17.1                     py36_0  \n",
      "pandas                    0.23.0           py36h830ac7b_0  \n",
      "pandoc                    1.19.2.1             hb2460c7_1  \n",
      "pandocfilters             1.4.2            py36h3ef6317_1  \n",
      "parso                     0.2.0                    py36_0  \n",
      "partd                     0.3.8            py36hc8e763b_0  \n",
      "path.py                   11.0.1                   py36_0  \n",
      "pathlib2                  2.3.2                    py36_0  \n",
      "patsy                     0.5.0                    py36_0  \n",
      "pbr                       5.1.3                    pypi_0    pypi\n",
      "pep8                      1.7.1                    py36_0  \n",
      "pickleshare               0.7.4            py36h9de030f_0  \n",
      "pillow                    5.1.0            py36h0738816_0  \n",
      "pip                       19.2.2                   pypi_0    pypi\n",
      "pkginfo                   1.4.2                    py36_1  \n",
      "pluggy                    0.6.0            py36hc7daf1e_0  \n",
      "ply                       3.11                     py36_0  \n",
      "prompt_toolkit            1.0.15           py36h60b8f86_0  \n",
      "protobuf                  3.7.1                    pypi_0    pypi\n",
      "psutil                    5.4.5            py36hfa6e2cd_0  \n",
      "py                        1.5.3                    py36_0  \n",
      "pycodestyle               2.4.0                    py36_0  \n",
      "pycosat                   0.6.3            py36h413d8a4_0  \n",
      "pycparser                 2.18             py36hd053e01_1  \n",
      "pycrypto                  2.6.1            py36hfa6e2cd_8  \n",
      "pycurl                    7.43.0.1         py36h74b6da3_0  \n",
      "pyflakes                  1.6.0            py36h0b975d6_0  \n",
      "pygments                  2.2.0            py36hb010967_0  \n",
      "pylint                    1.8.4                    py36_0  \n",
      "pyodbc                    4.0.23           py36h6538335_0  \n",
      "pyopenssl                 18.0.0                   py36_0  \n",
      "pyparsing                 2.2.0            py36h785a196_1  \n",
      "pyqt                      5.9.2            py36h1aa27d4_0  \n",
      "pysocks                   1.6.8                    py36_0  \n",
      "pytables                  3.4.3            py36he6f6034_1  \n",
      "pytest                    3.5.1                    py36_0  \n",
      "pytest-arraydiff          0.2                      py36_0  \n",
      "pytest-astropy            0.3.0                    py36_0  \n",
      "pytest-doctestplus        0.1.3                    py36_0  \n",
      "pytest-openfiles          0.3.0                    py36_0  \n",
      "pytest-remotedata         0.2.1                    py36_0  \n",
      "python                    3.6.5                h0c2934d_0  \n",
      "python-dateutil           2.7.3                    py36_0  \n",
      "pytorch                   1.2.0               py3.6_cpu_1  [cpuonly]  pytorch\n",
      "pytz                      2018.4                   py36_0  \n",
      "pywavelets                0.5.2            py36hc649158_0  \n",
      "pywin32                   223              py36hfa6e2cd_1  \n",
      "pywinpty                  0.5.1                    py36_0  \n",
      "pyyaml                    3.12             py36h1d1928f_1  \n",
      "pyzmq                     17.0.0           py36hfa6e2cd_1  \n",
      "qt                        5.9.5            vc14he4a7d60_0  [vc14]\n",
      "qtawesome                 0.4.4            py36h5aa48f6_0  \n",
      "qtconsole                 4.3.1            py36h99a29a9_0  \n",
      "qtpy                      1.4.1                    py36_0  \n",
      "requests                  2.18.4           py36h4371aae_1  \n",
      "rope                      0.10.7           py36had63a69_0  \n",
      "ruamel_yaml               0.15.35          py36hfa6e2cd_1  \n",
      "s3transfer                0.2.0                    pypi_0    pypi\n",
      "scikit-image              0.13.1           py36hfa6e2cd_1  \n",
      "scikit-learn              0.19.1           py36h53aea1b_0  \n",
      "scipy                     1.1.0            py36h672f292_0  \n",
      "seaborn                   0.8.1            py36h9b69545_0  \n",
      "selenium                  3.141.0                  pypi_0    pypi\n",
      "send2trash                1.5.0                    py36_0  \n",
      "setuptools                39.1.0                   py36_0  \n",
      "simplegeneric             0.8.1                    py36_2  \n",
      "singledispatch            3.4.0.3          py36h17d0c80_0  \n",
      "sip                       4.19.8           py36h6538335_0  \n",
      "six                       1.11.0           py36h4db2310_1  \n",
      "smart-open                1.8.2                    pypi_0    pypi\n",
      "snappy                    1.1.7                h777316e_3  \n",
      "snowballstemmer           1.2.1            py36h763602f_0  \n",
      "sortedcollections         0.6.1                    py36_0  \n",
      "sortedcontainers          1.5.10                   py36_0  \n",
      "sphinx                    1.7.4                    py36_0  \n",
      "sphinxcontrib             1.0              py36hbbac3d2_1  \n",
      "sphinxcontrib-websupport  1.0.1            py36hb5e5916_1  \n",
      "spyder                    3.2.8                    py36_0  \n",
      "sqlalchemy                1.2.7            py36ha85dd04_0  \n",
      "sqlite                    3.23.1               h35aae40_0  \n",
      "statsmodels               0.9.0            py36h452e1ab_0  \n",
      "sympy                     1.1.1            py36h96708e0_0  \n",
      "tblib                     1.3.2            py36h30f5020_0  \n",
      "tensorboard               1.13.1                   pypi_0    pypi\n",
      "tensorflow                1.13.1                   pypi_0    pypi\n",
      "tensorflow-estimator      1.13.0                   pypi_0    pypi\n",
      "tensorflow-hub            0.4.0                    pypi_0    pypi\n",
      "termcolor                 1.1.0                    pypi_0    pypi\n",
      "terminado                 0.8.1                    py36_1  \n",
      "testpath                  0.3.1            py36h2698cfe_0  \n",
      "theano                    1.0.4                    pypi_0    pypi\n",
      "tk                        8.6.7                hcb92d03_3  \n",
      "toolz                     0.9.0                    py36_0  \n",
      "torchvision               0.4.0                  py36_cpu  [cpuonly]  pytorch\n",
      "tornado                   5.0.2                    py36_0  \n",
      "traitlets                 4.3.2            py36h096827d_0  \n",
      "typing                    3.6.4                    py36_0  \n",
      "unicodecsv                0.14.1           py36h6450c06_0  \n",
      "urllib3                   1.22             py36h276f60a_0  \n",
      "vc                        14                   h0510ff6_3  \n",
      "vs2015_runtime            14.0.25123                    3  \n",
      "wcwidth                   0.1.7            py36h3d5aa90_0  \n",
      "webencodings              0.5.1            py36h67c50ae_1  \n",
      "werkzeug                  0.14.1                   py36_0  \n",
      "wheel                     0.31.1                   py36_0  \n",
      "widgetsnbextension        3.2.1                    py36_0  \n",
      "win_inet_pton             1.0.1            py36he67d7fd_1  \n",
      "win_unicode_console       0.5              py36hcdbd4b5_0  \n",
      "wincertstore              0.2              py36h7fe50ca_0  \n",
      "winpty                    0.4.3                         4  \n",
      "wrapt                     1.10.11          py36he5f5981_0  \n",
      "xlrd                      1.1.0            py36h1cb58dc_1  \n",
      "xlsxwriter                1.0.4                    py36_0  \n",
      "xlwings                   0.11.8                   py36_0  \n",
      "xlwt                      1.3.0            py36h1a4751e_0  \n",
      "yaml                      0.1.7                hc54c509_2  \n",
      "zeromq                    4.2.5                hc6251cf_0  \n",
      "zict                      0.1.3            py36h2d8e73e_0  \n",
      "zlib                      1.2.11               h8395fce_2  \n"
     ]
    }
   ],
   "source": [
    "# Selenium이 아나콘다에 설치되었음을 확인할 수 있다.\n",
    "!conda list"
   ]
  },
  {
   "cell_type": "markdown",
   "metadata": {},
   "source": [
    "pip는 파이썬으로 작성된 패키지 소프트웨어를 설치 · 관리하는 패키지 관리 시스템 이다. Python Package Index (PyPI)에서 많은 파이썬 패키지를 찾을 수 있다. 파이썬 2.7.9 이후 버전과 파이썬 3.4 이후 버전은 pip를 기본적으로 포함한다."
   ]
  },
  {
   "cell_type": "code",
   "execution_count": 5,
   "metadata": {},
   "outputs": [
    {
     "ename": "WebDriverException",
     "evalue": "Message: 'chromedriver' executable needs to be in PATH. Please see https://sites.google.com/a/chromium.org/chromedriver/home\n",
     "output_type": "error",
     "traceback": [
      "\u001b[1;31m---------------------------------------------------------------------------\u001b[0m",
      "\u001b[1;31mFileNotFoundError\u001b[0m                         Traceback (most recent call last)",
      "\u001b[1;32mC:\\Anaconda3\\lib\\site-packages\\selenium\\webdriver\\common\\service.py\u001b[0m in \u001b[0;36mstart\u001b[1;34m(self)\u001b[0m\n\u001b[0;32m     75\u001b[0m                                             \u001b[0mstderr\u001b[0m\u001b[1;33m=\u001b[0m\u001b[0mself\u001b[0m\u001b[1;33m.\u001b[0m\u001b[0mlog_file\u001b[0m\u001b[1;33m,\u001b[0m\u001b[1;33m\u001b[0m\u001b[0m\n\u001b[1;32m---> 76\u001b[1;33m                                             stdin=PIPE)\n\u001b[0m\u001b[0;32m     77\u001b[0m         \u001b[1;32mexcept\u001b[0m \u001b[0mTypeError\u001b[0m\u001b[1;33m:\u001b[0m\u001b[1;33m\u001b[0m\u001b[0m\n",
      "\u001b[1;32mC:\\Anaconda3\\lib\\subprocess.py\u001b[0m in \u001b[0;36m__init__\u001b[1;34m(self, args, bufsize, executable, stdin, stdout, stderr, preexec_fn, close_fds, shell, cwd, env, universal_newlines, startupinfo, creationflags, restore_signals, start_new_session, pass_fds, encoding, errors)\u001b[0m\n\u001b[0;32m    708\u001b[0m                                 \u001b[0merrread\u001b[0m\u001b[1;33m,\u001b[0m \u001b[0merrwrite\u001b[0m\u001b[1;33m,\u001b[0m\u001b[1;33m\u001b[0m\u001b[0m\n\u001b[1;32m--> 709\u001b[1;33m                                 restore_signals, start_new_session)\n\u001b[0m\u001b[0;32m    710\u001b[0m         \u001b[1;32mexcept\u001b[0m\u001b[1;33m:\u001b[0m\u001b[1;33m\u001b[0m\u001b[0m\n",
      "\u001b[1;32mC:\\Anaconda3\\lib\\subprocess.py\u001b[0m in \u001b[0;36m_execute_child\u001b[1;34m(self, args, executable, preexec_fn, close_fds, pass_fds, cwd, env, startupinfo, creationflags, shell, p2cread, p2cwrite, c2pread, c2pwrite, errread, errwrite, unused_restore_signals, unused_start_new_session)\u001b[0m\n\u001b[0;32m    996\u001b[0m                                          \u001b[0mos\u001b[0m\u001b[1;33m.\u001b[0m\u001b[0mfspath\u001b[0m\u001b[1;33m(\u001b[0m\u001b[0mcwd\u001b[0m\u001b[1;33m)\u001b[0m \u001b[1;32mif\u001b[0m \u001b[0mcwd\u001b[0m \u001b[1;32mis\u001b[0m \u001b[1;32mnot\u001b[0m \u001b[1;32mNone\u001b[0m \u001b[1;32melse\u001b[0m \u001b[1;32mNone\u001b[0m\u001b[1;33m,\u001b[0m\u001b[1;33m\u001b[0m\u001b[0m\n\u001b[1;32m--> 997\u001b[1;33m                                          startupinfo)\n\u001b[0m\u001b[0;32m    998\u001b[0m             \u001b[1;32mfinally\u001b[0m\u001b[1;33m:\u001b[0m\u001b[1;33m\u001b[0m\u001b[0m\n",
      "\u001b[1;31mFileNotFoundError\u001b[0m: [WinError 2] 지정된 파일을 찾을 수 없습니다",
      "\nDuring handling of the above exception, another exception occurred:\n",
      "\u001b[1;31mWebDriverException\u001b[0m                        Traceback (most recent call last)",
      "\u001b[1;32m<ipython-input-5-c93c05c6a2fc>\u001b[0m in \u001b[0;36m<module>\u001b[1;34m()\u001b[0m\n\u001b[0;32m      1\u001b[0m \u001b[1;32mfrom\u001b[0m \u001b[0mselenium\u001b[0m \u001b[1;32mimport\u001b[0m \u001b[0mwebdriver\u001b[0m\u001b[1;33m\u001b[0m\u001b[0m\n\u001b[0;32m      2\u001b[0m \u001b[1;33m\u001b[0m\u001b[0m\n\u001b[1;32m----> 3\u001b[1;33m \u001b[0mdriver\u001b[0m \u001b[1;33m=\u001b[0m \u001b[0mwebdriver\u001b[0m\u001b[1;33m.\u001b[0m\u001b[0mChrome\u001b[0m\u001b[1;33m(\u001b[0m\u001b[1;34m'./driver/chromedriver'\u001b[0m\u001b[1;33m)\u001b[0m \u001b[1;31m# 다운받은 크롬 드라이버 있는 경로\u001b[0m\u001b[1;33m\u001b[0m\u001b[0m\n\u001b[0m\u001b[0;32m      4\u001b[0m \u001b[0mdriver\u001b[0m\u001b[1;33m.\u001b[0m\u001b[0mget\u001b[0m\u001b[1;33m(\u001b[0m\u001b[1;34m'http://naver.com'\u001b[0m\u001b[1;33m)\u001b[0m\u001b[1;33m\u001b[0m\u001b[0m\n",
      "\u001b[1;32mC:\\Anaconda3\\lib\\site-packages\\selenium\\webdriver\\chrome\\webdriver.py\u001b[0m in \u001b[0;36m__init__\u001b[1;34m(self, executable_path, port, options, service_args, desired_capabilities, service_log_path, chrome_options, keep_alive)\u001b[0m\n\u001b[0;32m     71\u001b[0m             \u001b[0mservice_args\u001b[0m\u001b[1;33m=\u001b[0m\u001b[0mservice_args\u001b[0m\u001b[1;33m,\u001b[0m\u001b[1;33m\u001b[0m\u001b[0m\n\u001b[0;32m     72\u001b[0m             log_path=service_log_path)\n\u001b[1;32m---> 73\u001b[1;33m         \u001b[0mself\u001b[0m\u001b[1;33m.\u001b[0m\u001b[0mservice\u001b[0m\u001b[1;33m.\u001b[0m\u001b[0mstart\u001b[0m\u001b[1;33m(\u001b[0m\u001b[1;33m)\u001b[0m\u001b[1;33m\u001b[0m\u001b[0m\n\u001b[0m\u001b[0;32m     74\u001b[0m \u001b[1;33m\u001b[0m\u001b[0m\n\u001b[0;32m     75\u001b[0m         \u001b[1;32mtry\u001b[0m\u001b[1;33m:\u001b[0m\u001b[1;33m\u001b[0m\u001b[0m\n",
      "\u001b[1;32mC:\\Anaconda3\\lib\\site-packages\\selenium\\webdriver\\common\\service.py\u001b[0m in \u001b[0;36mstart\u001b[1;34m(self)\u001b[0m\n\u001b[0;32m     81\u001b[0m                 raise WebDriverException(\n\u001b[0;32m     82\u001b[0m                     \"'%s' executable needs to be in PATH. %s\" % (\n\u001b[1;32m---> 83\u001b[1;33m                         os.path.basename(self.path), self.start_error_message)\n\u001b[0m\u001b[0;32m     84\u001b[0m                 )\n\u001b[0;32m     85\u001b[0m             \u001b[1;32melif\u001b[0m \u001b[0merr\u001b[0m\u001b[1;33m.\u001b[0m\u001b[0merrno\u001b[0m \u001b[1;33m==\u001b[0m \u001b[0merrno\u001b[0m\u001b[1;33m.\u001b[0m\u001b[0mEACCES\u001b[0m\u001b[1;33m:\u001b[0m\u001b[1;33m\u001b[0m\u001b[0m\n",
      "\u001b[1;31mWebDriverException\u001b[0m: Message: 'chromedriver' executable needs to be in PATH. Please see https://sites.google.com/a/chromium.org/chromedriver/home\n"
     ]
    }
   ],
   "source": [
    "from selenium import webdriver\n",
    "\n",
    "driver = webdriver.Chrome('./driver/chromedriver') # 다운받은 크롬 드라이버 있는 경로\n",
    "driver.get('http://naver.com')"
   ]
  },
  {
   "cell_type": "code",
   "execution_count": 6,
   "metadata": {},
   "outputs": [
    {
     "ename": "NameError",
     "evalue": "name 'driver' is not defined",
     "output_type": "error",
     "traceback": [
      "\u001b[1;31m---------------------------------------------------------------------------\u001b[0m",
      "\u001b[1;31mNameError\u001b[0m                                 Traceback (most recent call last)",
      "\u001b[1;32m<ipython-input-6-fb9e7d1761b0>\u001b[0m in \u001b[0;36m<module>\u001b[1;34m()\u001b[0m\n\u001b[1;32m----> 1\u001b[1;33m \u001b[0mdriver\u001b[0m\u001b[1;33m.\u001b[0m\u001b[0msave_screenshot\u001b[0m\u001b[1;33m(\u001b[0m\u001b[1;34m'./screenshot_test.jpg'\u001b[0m\u001b[1;33m)\u001b[0m\u001b[1;33m\u001b[0m\u001b[0m\n\u001b[0m",
      "\u001b[1;31mNameError\u001b[0m: name 'driver' is not defined"
     ]
    }
   ],
   "source": [
    "driver.save_screenshot('./screenshot_test.jpg')"
   ]
  },
  {
   "cell_type": "markdown",
   "metadata": {},
   "source": [
    "### NAVER로그인 버튼 클릭하기"
   ]
  },
  {
   "cell_type": "code",
   "execution_count": 7,
   "metadata": {},
   "outputs": [
    {
     "ename": "NameError",
     "evalue": "name 'driver' is not defined",
     "output_type": "error",
     "traceback": [
      "\u001b[1;31m---------------------------------------------------------------------------\u001b[0m",
      "\u001b[1;31mNameError\u001b[0m                                 Traceback (most recent call last)",
      "\u001b[1;32m<ipython-input-7-f818ccbc56f2>\u001b[0m in \u001b[0;36m<module>\u001b[1;34m()\u001b[0m\n\u001b[0;32m      1\u001b[0m \u001b[1;31m# 크롬 개발자도구로 NAVER 로그인의 xpath를 검색해보자 : //*[@id=\"account\"]/div/a/i\u001b[0m\u001b[1;33m\u001b[0m\u001b[1;33m\u001b[0m\u001b[0m\n\u001b[1;32m----> 2\u001b[1;33m \u001b[0mdriver\u001b[0m\u001b[1;33m.\u001b[0m\u001b[0mfind_element_by_xpath\u001b[0m\u001b[1;33m(\u001b[0m\u001b[1;34m'//*[@id=\"account\"]/div/a/i'\u001b[0m\u001b[1;33m)\u001b[0m\u001b[1;33m.\u001b[0m\u001b[0mclick\u001b[0m\u001b[1;33m(\u001b[0m\u001b[1;33m)\u001b[0m\u001b[1;33m\u001b[0m\u001b[0m\n\u001b[0m",
      "\u001b[1;31mNameError\u001b[0m: name 'driver' is not defined"
     ]
    }
   ],
   "source": [
    "# 크롬 개발자도구로 NAVER 로그인의 xpath를 검색해보자 : //*[@id=\"account\"]/div/a/i\n",
    "driver.find_element_by_xpath('//*[@id=\"account\"]/div/a/i').click()"
   ]
  },
  {
   "cell_type": "markdown",
   "metadata": {},
   "source": [
    "### 자신의 아이디로 로그인하기"
   ]
  },
  {
   "cell_type": "code",
   "execution_count": 8,
   "metadata": {},
   "outputs": [
    {
     "ename": "NameError",
     "evalue": "name 'driver' is not defined",
     "output_type": "error",
     "traceback": [
      "\u001b[1;31m---------------------------------------------------------------------------\u001b[0m",
      "\u001b[1;31mNameError\u001b[0m                                 Traceback (most recent call last)",
      "\u001b[1;32m<ipython-input-8-e0d74701ac74>\u001b[0m in \u001b[0;36m<module>\u001b[1;34m()\u001b[0m\n\u001b[1;32m----> 1\u001b[1;33m \u001b[0melement_id\u001b[0m \u001b[1;33m=\u001b[0m \u001b[0mdriver\u001b[0m\u001b[1;33m.\u001b[0m\u001b[0mfind_element_by_xpath\u001b[0m\u001b[1;33m(\u001b[0m\u001b[1;34m'//*[@id=\"id\"]'\u001b[0m\u001b[1;33m)\u001b[0m\u001b[1;33m\u001b[0m\u001b[0m\n\u001b[0m\u001b[0;32m      2\u001b[0m \u001b[0melement_id\u001b[0m\u001b[1;33m.\u001b[0m\u001b[0mclear\u001b[0m\u001b[1;33m(\u001b[0m\u001b[1;33m)\u001b[0m \u001b[1;31m# 혹시나 뭐라도 써있으면 지워주는 역할\u001b[0m\u001b[1;33m\u001b[0m\u001b[0m\n\u001b[0;32m      3\u001b[0m \u001b[0melement_id\u001b[0m\u001b[1;33m.\u001b[0m\u001b[0msend_keys\u001b[0m\u001b[1;33m(\u001b[0m\u001b[1;34m'inny1987'\u001b[0m\u001b[1;33m)\u001b[0m\u001b[1;33m\u001b[0m\u001b[0m\n",
      "\u001b[1;31mNameError\u001b[0m: name 'driver' is not defined"
     ]
    }
   ],
   "source": [
    "element_id = driver.find_element_by_xpath('//*[@id=\"id\"]')\n",
    "element_id.clear() # 혹시나 뭐라도 써있으면 지워주는 역할\n",
    "element_id.send_keys('inny1987')"
   ]
  },
  {
   "cell_type": "code",
   "execution_count": null,
   "metadata": {},
   "outputs": [],
   "source": [
    "element_pw = driver.find_element_by_xpath('//*[@id=\"pw\"]')\n",
    "element_pw.clear() # 혹시나 뭐라도 써있으면 지워주는 역할\n",
    "element_pw.send_keys('자신의 비밀번호')"
   ]
  },
  {
   "cell_type": "code",
   "execution_count": null,
   "metadata": {},
   "outputs": [],
   "source": [
    "# 로그인 버튼의 xpath\n",
    "driver.find_element_by_xpath('//*[@id=\"frmNIDLogin\"]/fieldset/input').click()"
   ]
  },
  {
   "cell_type": "markdown",
   "metadata": {},
   "source": [
    "### 네이버 메일에 접근(로그인이 완료된 상태이므로)"
   ]
  },
  {
   "cell_type": "code",
   "execution_count": null,
   "metadata": {},
   "outputs": [],
   "source": [
    "# 네이버 메일로 이동함\n",
    "driver.get('http://mail.naver.com')"
   ]
  },
  {
   "cell_type": "markdown",
   "metadata": {},
   "source": [
    "### 현재 상태에서 BeautifulSoup을 이용하여 HTML Parsing 가능"
   ]
  },
  {
   "cell_type": "code",
   "execution_count": null,
   "metadata": {},
   "outputs": [],
   "source": [
    "from bs4 import BeautifulSoup\n",
    "\n",
    "html = driver.page_source\n",
    "soup = BeautifulSoup(html, 'html.parser')"
   ]
  },
  {
   "cell_type": "code",
   "execution_count": null,
   "metadata": {},
   "outputs": [],
   "source": [
    "title_list = soup.select('#list_for_view > ol > li > div > div.subject > a > span > strong')"
   ]
  },
  {
   "cell_type": "code",
   "execution_count": null,
   "metadata": {},
   "outputs": [],
   "source": [
    "for title in title_list:\n",
    "    print(title.get_text())"
   ]
  },
  {
   "cell_type": "code",
   "execution_count": null,
   "metadata": {},
   "outputs": [],
   "source": [
    "driver.close()"
   ]
  },
  {
   "cell_type": "code",
   "execution_count": null,
   "metadata": {},
   "outputs": [],
   "source": []
  }
 ],
 "metadata": {
  "kernelspec": {
   "display_name": "Python 3",
   "language": "python",
   "name": "python3"
  },
  "language_info": {
   "codemirror_mode": {
    "name": "ipython",
    "version": 3
   },
   "file_extension": ".py",
   "mimetype": "text/x-python",
   "name": "python",
   "nbconvert_exporter": "python",
   "pygments_lexer": "ipython3",
   "version": "3.6.5"
  }
 },
 "nbformat": 4,
 "nbformat_minor": 2
}
